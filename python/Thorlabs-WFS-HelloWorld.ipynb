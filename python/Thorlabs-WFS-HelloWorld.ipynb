{
 "cells": [
  {
   "cell_type": "markdown",
   "metadata": {},
   "source": [
    "This Python code uses Thorlabs driver `WFS_32.dll` and requires that Python installation is **32-bit**. To install the driver run the [Thorlabs WFS Software](https://www.thorlabs.com/software_pages/ViewSoftwarePage.cfm?Code=WFS) installer.\n",
    "Author: [Nikita Vladimirov](mailto:nikita.vladimirov@mdc-berlin.de)"
   ]
  },
  {
   "cell_type": "code",
   "execution_count": 1,
   "metadata": {
    "collapsed": true
   },
   "outputs": [],
   "source": [
    "import ctypes as ct\n",
    "wfs = ct.windll.WFS_32"
   ]
  },
  {
   "cell_type": "code",
   "execution_count": 2,
   "metadata": {
    "collapsed": true
   },
   "outputs": [],
   "source": [
    "byref = ct.byref\n",
    "count = ct.c_int32() \n",
    "deviceID  = ct.c_int32()  \n",
    "instrumentListIndex  = ct.c_int32() \n",
    "instrumentListIndex.value = 0\n",
    "inUse = ct.c_int32() \n",
    "instrumentName = ct.create_string_buffer(\"\", 20)\n",
    "instrumentSN = ct.create_string_buffer(\"\", 20)\n",
    "resourceName = ct.create_string_buffer(\"\", 30)"
   ]
  },
  {
   "cell_type": "code",
   "execution_count": 3,
   "metadata": {
    "collapsed": false
   },
   "outputs": [
    {
     "name": "stdout",
     "output_type": "stream",
     "text": [
      "WFS sensors connected: 1\n"
     ]
    }
   ],
   "source": [
    "wfs.WFS_GetInstrumentListLen(None,byref(count))\n",
    "print('WFS sensors connected: ' + str(count.value))"
   ]
  },
  {
   "cell_type": "code",
   "execution_count": 4,
   "metadata": {
    "collapsed": false
   },
   "outputs": [
    {
     "data": {
      "text/plain": [
       "0"
      ]
     },
     "execution_count": 4,
     "metadata": {},
     "output_type": "execute_result"
    }
   ],
   "source": [
    "wfs.WFS_GetInstrumentListInfo(None,instrumentListIndex, byref(deviceID), byref(inUse),\n",
    "                             instrumentName, instrumentSN, resourceName)"
   ]
  },
  {
   "cell_type": "code",
   "execution_count": 5,
   "metadata": {
    "collapsed": false
   },
   "outputs": [
    {
     "name": "stdout",
     "output_type": "stream",
     "text": [
      "deviceID: 1\n",
      "in use? 0\n",
      "WFS150-7AR\n",
      "M00313725\n",
      "USB::0x1313::0x0000::1\n"
     ]
    }
   ],
   "source": [
    "print('deviceID: ' + str(deviceID.value))\n",
    "print('in use? ' + str(inUse.value))\n",
    "print(instrumentName.value)\n",
    "print(instrumentSN.value)\n",
    "print(resourceName.value)"
   ]
  },
  {
   "cell_type": "code",
   "execution_count": 6,
   "metadata": {
    "collapsed": true
   },
   "outputs": [],
   "source": [
    "IDQuery = ct.c_bool()\n",
    "resetDevice = ct.c_bool()\n",
    "instrumentHandle = ct.c_ulong()"
   ]
  },
  {
   "cell_type": "code",
   "execution_count": 7,
   "metadata": {
    "collapsed": false
   },
   "outputs": [
    {
     "data": {
      "text/plain": [
       "0"
      ]
     },
     "execution_count": 7,
     "metadata": {},
     "output_type": "execute_result"
    }
   ],
   "source": [
    "wfs.WFS_init(resourceName, IDQuery, resetDevice, byref(instrumentHandle))"
   ]
  },
  {
   "cell_type": "code",
   "execution_count": 8,
   "metadata": {
    "collapsed": false
   },
   "outputs": [
    {
     "name": "stdout",
     "output_type": "stream",
     "text": [
      "instrumentHandle: 144113744\n"
     ]
    }
   ],
   "source": [
    "print('instrumentHandle: ' +str(instrumentHandle.value))"
   ]
  },
  {
   "cell_type": "code",
   "execution_count": 9,
   "metadata": {
    "collapsed": false
   },
   "outputs": [
    {
     "data": {
      "text/plain": [
       "0"
      ]
     },
     "execution_count": 9,
     "metadata": {},
     "output_type": "execute_result"
    }
   ],
   "source": [
    "wfs.WFS_close(instrumentHandle)"
   ]
  },
  {
   "cell_type": "code",
   "execution_count": null,
   "metadata": {
    "collapsed": true
   },
   "outputs": [],
   "source": []
  }
 ],
 "metadata": {
  "anaconda-cloud": {},
  "kernelspec": {
   "display_name": "Python [default]",
   "language": "python",
   "name": "python2"
  },
  "language_info": {
   "codemirror_mode": {
    "name": "ipython",
    "version": 2
   },
   "file_extension": ".py",
   "mimetype": "text/x-python",
   "name": "python",
   "nbconvert_exporter": "python",
   "pygments_lexer": "ipython2",
   "version": "2.7.12"
  }
 },
 "nbformat": 4,
 "nbformat_minor": 2
}
