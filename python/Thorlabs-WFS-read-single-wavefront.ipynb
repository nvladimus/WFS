{
 "cells": [
  {
   "cell_type": "markdown",
   "metadata": {},
   "source": [
    "This Python code uses Thorlabs driver `WFS_32.dll` and requires that Python installation is **32-bit**. To install the driver run the [Thorlabs WFS Software](https://www.thorlabs.com/software_pages/ViewSoftwarePage.cfm?Code=WFS) installer.\n",
    "Author: [Nikita Vladimirov](mailto:nikita.vladimirov@mdc-berlin.de)"
   ]
  },
  {
   "cell_type": "code",
   "execution_count": 1,
   "metadata": {
    "collapsed": true
   },
   "outputs": [],
   "source": [
    "import ctypes as ct\n",
    "import matplotlib.pyplot as plt\n",
    "import numpy as np\n",
    "%matplotlib inline"
   ]
  },
  {
   "cell_type": "code",
   "execution_count": 2,
   "metadata": {
    "collapsed": true
   },
   "outputs": [],
   "source": [
    "#load the DLL:\n",
    "wfs = ct.windll.WFS_32\n",
    "byref = ct.byref"
   ]
  },
  {
   "cell_type": "code",
   "execution_count": 3,
   "metadata": {
    "collapsed": true
   },
   "outputs": [],
   "source": [
    "#Set the data types compatible with C DLL\n",
    "byref = ct.byref\n",
    "count = ct.c_int32() \n",
    "deviceID  = ct.c_int32()  \n",
    "instrumentListIndex  = ct.c_int32() \n",
    "inUse = ct.c_int32() \n",
    "instrumentName = ct.create_string_buffer(\"\", 256)\n",
    "instrumentSN = ct.create_string_buffer(\"\", 256)\n",
    "resourceName = ct.create_string_buffer(\"\", 256)\n",
    "IDQuery = ct.c_bool()\n",
    "resetDevice = ct.c_bool()\n",
    "instrumentHandle = ct.c_ulong()\n",
    "pupilCenterXMm = ct.c_double()\n",
    "pupilCenterYMm = ct.c_double()\n",
    "pupilDiameterXMm = ct.c_double()\n",
    "pupilDiameterYMm = ct.c_double()\n",
    "exposureTimeAct = ct.c_double()\n",
    "masterGainAct = ct.c_double()\n",
    "dynamicNoiseCut = ct.c_int32() \n",
    "calculateDiameters = ct.c_int32() \n",
    "cancelWavefrontTilt = ct.c_int32() \n",
    "errorMessage = ct.create_string_buffer(\"\", 512)\n",
    "errorCode = ct.c_int32()\n",
    "pixelFormat = ct.c_int32()\n",
    "pixelFormat.value = 0 #currently 8 bit only\n",
    "camResolIndex = ct.c_int32()\n",
    "spotsX = ct.c_int32()\n",
    "spotsY = ct.c_int32()\n",
    "wavefrontType = ct.c_int32() \n",
    "limitToPupil = ct.c_int32() "
   ]
  },
  {
   "cell_type": "code",
   "execution_count": 4,
   "metadata": {
    "collapsed": true
   },
   "outputs": [],
   "source": [
    "#Set the parameter values\n",
    "MAX_SPOTS_X = 50\n",
    "MAX_SPOTS_Y = 40\n",
    "arrayWavefront = np.zeros((MAX_SPOTS_Y,MAX_SPOTS_X),dtype = np.float32)\n",
    "instrumentListIndex.value = 0 #0,1,2,, if multiple instruments connected\n",
    "#Configure camera\n",
    "camResolIndex.value = 1\n",
    "# camResolIndex values:\n",
    "# For WFS instruments: \n",
    "# Index  Resolution \n",
    "# 0    1280x1024          \n",
    "# 1    1024x1024          \n",
    "# 2     768x768            \n",
    "# 3     512x512            \n",
    "# 4     320x320 \n",
    "# For WFS10 instruments: \n",
    "# Index  Resolution \n",
    "# 0     640x480          \n",
    "# 1     480x480          \n",
    "# 2     360x360            \n",
    "# 3     260x260            \n",
    "# 4     180x180 \n",
    "# For WFS20 instruments: \n",
    "# Index  Resolution \n",
    "# 0    1440x1080             \n",
    "# 1    1080x1080             \n",
    "# 2     768x768               \n",
    "# 3     512x512               \n",
    "# 4     360x360               \n",
    "# 5     720x540, bin2 \n",
    "# 6     540x540, bin2 \n",
    "# 7     384x384, bin2 \n",
    "# 8     256x256, bin2 \n",
    "# 9     180x180, bin2\n",
    "\n",
    "#Set pupil\n",
    "pupilCenterXMm.value = 0 #mm\n",
    "pupilCenterYMm.value = 0 #mm\n",
    "pupilDiameterXMm.value = 4.5 #mm\n",
    "pupilDiameterYMm.value = 4.5 #mm\n",
    "\n",
    "#Set spot calculation params\n",
    "dynamicNoiseCut.value = 1\n",
    "calculateDiameters.value = 0\n",
    "cancelWavefrontTilt.value = 1\n",
    "\n",
    "\n",
    "wavefrontType.value = 0\n",
    "# This parameter defines the type of wavefront to calculate. \n",
    "# Valid settings for wavefrontType: \n",
    "# 0   Measured Wavefront \n",
    "# 1   Reconstructed Wavefront based on Zernike coefficients \n",
    "# 2   Difference between measured and reconstructed Wavefront \n",
    "# Note: Function WFS_CalcReconstrDeviations needs to be called prior to this function in case of Wavefront type 1 and 2.\n",
    "\n",
    "\n",
    "limitToPupil.value = 1\n",
    "# This parameter defines if the Wavefront should be calculated based on all detected spots or only within the defined pupil. \n",
    "# Valid settings: \n",
    "# 0   Calculate Wavefront for all spots \n",
    "# 1   Limit Wavefront to pupil interior"
   ]
  },
  {
   "cell_type": "code",
   "execution_count": 5,
   "metadata": {},
   "outputs": [
    {
     "name": "stdout",
     "output_type": "stream",
     "text": [
      "WFS sensors connected: 1\n"
     ]
    }
   ],
   "source": [
    "wfs.WFS_GetInstrumentListLen(None,byref(count))\n",
    "print('WFS sensors connected: ' + str(count.value))"
   ]
  },
  {
   "cell_type": "code",
   "execution_count": 6,
   "metadata": {},
   "outputs": [
    {
     "name": "stdout",
     "output_type": "stream",
     "text": [
      "WFS deviceID: 1\n",
      "in use? 0\n",
      "instrumentName: WFS150-7AR\n",
      "instrumentSN: M00313725\n",
      "resourceName: USB::0x1313::0x0000::1\n"
     ]
    }
   ],
   "source": [
    "#Select a device and get its info\n",
    "devStatus = wfs.WFS_GetInstrumentListInfo(None,instrumentListIndex, byref(deviceID), byref(inUse),\n",
    "                             instrumentName, instrumentSN, resourceName)\n",
    "if(devStatus != 0):\n",
    "    errorCode.value = devStatus\n",
    "    wfs.WFS_error_message(instrumentHandle,errorCode,errorMessage)\n",
    "    print('error in WFS_GetInstrumentListInfo():' + str(errorMessage.value))\n",
    "else:\n",
    "    print('WFS deviceID: ' + str(deviceID.value))\n",
    "    print('in use? ' + str(inUse.value))\n",
    "    print('instrumentName: ' + str(instrumentName.value))\n",
    "    print('instrumentSN: ' + str(instrumentSN.value))\n",
    "    print('resourceName: ' + str(resourceName.value))"
   ]
  },
  {
   "cell_type": "code",
   "execution_count": 7,
   "metadata": {},
   "outputs": [
    {
     "name": "stdout",
     "output_type": "stream",
     "text": [
      "WFS has been initialized. Instrument handle: 167194704\n"
     ]
    }
   ],
   "source": [
    "if not inUse.value:\n",
    "    devStatus = wfs.WFS_init(resourceName, IDQuery, resetDevice, byref(instrumentHandle))\n",
    "    if(devStatus != 0):\n",
    "        errorCode.value = devStatus\n",
    "        wfs.WFS_error_message(instrumentHandle,errorCode,errorMessage)\n",
    "        print('error in WFS_init():' + str(errorMessage.value))\n",
    "    else:\n",
    "        print('WFS has been initialized. Instrument handle: ' +str(instrumentHandle.value))\n",
    "else:\n",
    "    print('WFS already in use')"
   ]
  },
  {
   "cell_type": "code",
   "execution_count": 8,
   "metadata": {},
   "outputs": [
    {
     "name": "stdout",
     "output_type": "stream",
     "text": [
      "WFS camera configured\n",
      "SpotsX:29\n",
      "SpotsY:29\n"
     ]
    }
   ],
   "source": [
    "#Configure camera\n",
    "devStatus = wfs.WFS_ConfigureCam(instrumentHandle, \n",
    "                                 pixelFormat, camResolIndex, byref(spotsX), byref(spotsY))\n",
    "if(devStatus != 0):\n",
    "    errorCode.value = devStatus\n",
    "    wfs.WFS_error_message(instrumentHandle,errorCode,errorMessage)\n",
    "    print('error in WFS_ConfigureCam():' + str(errorMessage.value))\n",
    "else:\n",
    "    print('WFS camera configured')\n",
    "    print('SpotsX:' + str(spotsX.value))\n",
    "    print('SpotsY:' + str(spotsY.value))"
   ]
  },
  {
   "cell_type": "code",
   "execution_count": 9,
   "metadata": {},
   "outputs": [
    {
     "name": "stdout",
     "output_type": "stream",
     "text": [
      "WFS pupil set\n"
     ]
    }
   ],
   "source": [
    "devStatus = wfs.WFS_SetPupil(instrumentHandle,\n",
    "                             pupilCenterXMm, pupilCenterYMm, pupilDiameterXMm, pupilDiameterYMm)\n",
    "if(devStatus != 0):\n",
    "    errorCode.value = devStatus\n",
    "    wfs.WFS_error_message(instrumentHandle,errorCode,errorMessage)\n",
    "    print('error in WFS_SetPupil():' + str(errorMessage.value))\n",
    "else:\n",
    "    print('WFS pupil set')"
   ]
  },
  {
   "cell_type": "code",
   "execution_count": 15,
   "metadata": {},
   "outputs": [
    {
     "name": "stdout",
     "output_type": "stream",
     "text": [
      "Took spotfield image, auto exposure\n",
      "exposureTimeAct, ms: 0.0793666666667\n",
      "masterGainAct: 1.51921130595\n"
     ]
    }
   ],
   "source": [
    "devStatus = wfs.WFS_TakeSpotfieldImageAutoExpos(instrumentHandle,\n",
    "                                                byref(exposureTimeAct), byref(masterGainAct))\n",
    "if(devStatus != 0):\n",
    "    errorCode.value = devStatus\n",
    "    wfs.WFS_error_message(instrumentHandle,errorCode,errorMessage)\n",
    "    print('error in WFS_TakeSpotfieldImageAutoExpos():' + str(errorMessage.value))\n",
    "else:\n",
    "    print('Took spotfield image, auto exposure')\n",
    "    print('exposureTimeAct, ms: ' + str(exposureTimeAct.value))\n",
    "    print('masterGainAct: ' + str(masterGainAct.value))"
   ]
  },
  {
   "cell_type": "code",
   "execution_count": 16,
   "metadata": {},
   "outputs": [
    {
     "name": "stdout",
     "output_type": "stream",
     "text": [
      "WFS spot centroids calculated\n"
     ]
    }
   ],
   "source": [
    "devStatus = wfs.WFS_CalcSpotsCentrDiaIntens(instrumentHandle, dynamicNoiseCut, calculateDiameters)\n",
    "if(devStatus != 0):\n",
    "    errorCode.value = devStatus\n",
    "    wfs.WFS_error_message(instrumentHandle,errorCode,errorMessage)\n",
    "    print('error in WFS_CalcSpotsCentrDiaIntens():' + str(errorMessage.value))\n",
    "else:\n",
    "    print('WFS spot centroids calculated')"
   ]
  },
  {
   "cell_type": "code",
   "execution_count": 17,
   "metadata": {},
   "outputs": [
    {
     "name": "stdout",
     "output_type": "stream",
     "text": [
      "WFS spot to ref deviations calculated\n"
     ]
    }
   ],
   "source": [
    "devStatus = wfs.WFS_CalcSpotToReferenceDeviations(instrumentHandle, cancelWavefrontTilt)\n",
    "if(devStatus != 0):\n",
    "    errorCode.value = devStatus\n",
    "    wfs.WFS_error_message(instrumentHandle,errorCode,errorMessage)\n",
    "    print('error in WFS_CalcSpotToReferenceDeviations():' + str(errorMessage.value))\n",
    "else:\n",
    "    print('WFS spot to ref deviations calculated')"
   ]
  },
  {
   "cell_type": "code",
   "execution_count": 18,
   "metadata": {},
   "outputs": [
    {
     "name": "stdout",
     "output_type": "stream",
     "text": [
      "WFS wavefront calculated\n"
     ]
    }
   ],
   "source": [
    "devStatus = wfs.WFS_CalcWavefront(instrumentHandle, \n",
    "                                  wavefrontType, limitToPupil, arrayWavefront.ctypes.data)\n",
    "if(devStatus != 0):\n",
    "    errorCode.value = devStatus\n",
    "    wfs.WFS_error_message(instrumentHandle,errorCode,errorMessage)\n",
    "    print('error in WFS_CalcWavefront():' + str(errorMessage.value))\n",
    "else:\n",
    "    print('WFS wavefront calculated')"
   ]
  },
  {
   "cell_type": "code",
   "execution_count": 19,
   "metadata": {},
   "outputs": [
    {
     "data": {
      "text/plain": [
       "<matplotlib.colorbar.Colorbar at 0x6cb5f70>"
      ]
     },
     "execution_count": 19,
     "metadata": {},
     "output_type": "execute_result"
    },
    {
     "data": {
      "image/png": "[encoded data removed]",
      "text/plain": [
       "<matplotlib.figure.Figure at 0x67d5d90>"
      ]
     },
     "metadata": {},
     "output_type": "display_data"
    }
   ],
   "source": [
    "WF = arrayWavefront[:spotsY.value,:spotsX.value].copy()\n",
    "plt.imshow(WF)\n",
    "plt.title('Wavefront phase, um')\n",
    "plt.xlabel('X spots')\n",
    "plt.xlabel('Y spots')\n",
    "plt.colorbar()"
   ]
  },
  {
   "cell_type": "code",
   "execution_count": 20,
   "metadata": {},
   "outputs": [
    {
     "name": "stdout",
     "output_type": "stream",
     "text": [
      "WFS closed\n"
     ]
    }
   ],
   "source": [
    "devStatus = wfs.WFS_close(instrumentHandle)\n",
    "if(devStatus != 0):\n",
    "    errorCode.value = devStatus\n",
    "    wfs.WFS_error_message(instrumentHandle,errorCode,errorMessage)\n",
    "    print('error in WFS_close():' + str(errorMessage.value))\n",
    "else:\n",
    "    print('WFS closed')"
   ]
  },
  {
   "cell_type": "code",
   "execution_count": null,
   "metadata": {
    "collapsed": true
   },
   "outputs": [],
   "source": []
  }
 ],
 "metadata": {
  "kernelspec": {
   "display_name": "Python 2",
   "language": "python",
   "name": "python2"
  },
  "language_info": {
   "codemirror_mode": {
    "name": "ipython",
    "version": 2
   },
   "file_extension": ".py",
   "mimetype": "text/x-python",
   "name": "python",
   "nbconvert_exporter": "python",
   "pygments_lexer": "ipython2",
   "version": "2.7.13"
  }
 },
 "nbformat": 4,
 "nbformat_minor": 2
}
